{
 "cells": [
  {
   "cell_type": "code",
   "execution_count": null,
   "metadata": {},
   "outputs": [
    {
     "name": "stdout",
     "output_type": "stream",
     "text": [
      "<reversed object at 0x00000276315EDE80>\n",
      "nam\n"
     ]
    }
   ],
   "source": [
    "s1=\"nam\"\n",
    "print(reversed(s1))\n",
    "print(s1)"
   ]
  }
 ],
 "metadata": {
  "interpreter": {
   "hash": "799d250f4286ad78ee2842a64efd25e54a667c7727db488fc55fe69c3f00c336"
  },
  "kernelspec": {
   "display_name": "Python 3.9.6 64-bit (system)",
   "name": "python3"
  },
  "language_info": {
   "codemirror_mode": {
    "name": "ipython",
    "version": 3
   },
   "file_extension": ".py",
   "mimetype": "text/x-python",
   "name": "python",
   "nbconvert_exporter": "python",
   "pygments_lexer": "ipython3",
   "version": "3.9.6"
  },
  "orig_nbformat": 4
 },
 "nbformat": 4,
 "nbformat_minor": 2
}
