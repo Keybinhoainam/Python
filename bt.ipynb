{
 "cells": [
  {
   "cell_type": "code",
   "execution_count": 1,
   "metadata": {},
   "outputs": [
    {
     "name": "stdout",
     "output_type": "stream",
     "text": [
      "thong tin: Nam 123 01\n",
      "Sinh vien Nam dang hoc Math\n"
     ]
    }
   ],
   "source": [
    "class Student:\n",
    "    def __init__(self,name,msv,clas) :\n",
    "        self.name=name\n",
    "        self.msv=msv\n",
    "        self.clas=clas\n",
    "    def des_student(self):\n",
    "        print(\"thong tin:\",self.name,self.msv,self.clas)\n",
    "    def des_object(self,mon):\n",
    "        print(f\"Sinh vien {self.name} dang hoc {mon}\")\n",
    "\n",
    "\n",
    "u = Student(\"Nam\",\"123\",\"01\")\n",
    "u.des_student()\n",
    "u.des_object(\"Math\")\n",
    "    "
   ]
  },
  {
   "cell_type": "code",
   "execution_count": 1,
   "metadata": {},
   "outputs": [
    {
     "name": "stdout",
     "output_type": "stream",
     "text": [
      "thong tin: Hoài Nam nam 12/2\n",
      "123 3.4 nam@gmail.com\n",
      "co hoc bong\n"
     ]
    }
   ],
   "source": [
    "\n",
    "class Person:\n",
    "    def __init__(self,ten,gioitinh,ngaysinh) :\n",
    "        self.ten=ten\n",
    "        self.gioitinh=gioitinh\n",
    "        self.ngaysinh=ngaysinh\n",
    "    def desc_Person(self) :\n",
    "        print(\"thong tin:\",self.ten,self.gioitinh,self.ngaysinh)\n",
    "\n",
    "class Student(Person):\n",
    "    def __init__(self,ten,gioitinh,ngaysinh,msv,dtb,email) :\n",
    "        super().__init__(ten,gioitinh,ngaysinh)\n",
    "        self.msv=msv\n",
    "        self.dtb=dtb\n",
    "        self.email=email\n",
    "    def desc_Student(self) :\n",
    "        self.desc_Person()\n",
    "        print(self.msv,self.dtb,self.email)\n",
    "    def check_hoboc(self):\n",
    "        if self.dtb>=3.2:\n",
    "            print(\"co hoc bong\")\n",
    "        else: print(\"khong co hoc bong\")\n",
    "\n",
    "st=Student(\"Hoài Nam\",\"nam\",\"12/2\",123,3.4,\"nam@gmail.com\")\n",
    "st.desc_Student()\n",
    "st.check_hoboc()"
   ]
  },
  {
   "cell_type": "code",
   "execution_count": null,
   "metadata": {},
   "outputs": [],
   "source": [
    "class Rectangle:\n",
    "    def __init__(self,d,r):\n",
    "        self.d=d\n",
    "        self.r=r\n",
    "    def chuvi(self):\n",
    "        return (self.d+self.r)*2\n",
    "\n",
    "    def dientich(self):\n",
    "        return self.d*self.r;\n",
    "        "
   ]
  }
 ],
 "metadata": {
  "interpreter": {
   "hash": "799d250f4286ad78ee2842a64efd25e54a667c7727db488fc55fe69c3f00c336"
  },
  "kernelspec": {
   "display_name": "Python 3.9.6 64-bit (system)",
   "name": "python3"
  },
  "language_info": {
   "codemirror_mode": {
    "name": "ipython",
    "version": 3
   },
   "file_extension": ".py",
   "mimetype": "text/x-python",
   "name": "python",
   "nbconvert_exporter": "python",
   "pygments_lexer": "ipython3",
   "version": "3.9.6"
  },
  "orig_nbformat": 4
 },
 "nbformat": 4,
 "nbformat_minor": 2
}
