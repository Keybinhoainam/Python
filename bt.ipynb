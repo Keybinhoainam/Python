{
 "cells": [
  {
   "cell_type": "code",
   "execution_count": 8,
   "source": [
    "print(\"Hello\")"
   ],
   "outputs": [
    {
     "output_type": "stream",
     "name": "stdout",
     "text": [
      "Hello\n"
     ]
    }
   ],
   "metadata": {}
  },
  {
   "cell_type": "code",
   "execution_count": 18,
   "source": [
    "# Bài tập 6: Đếm tất cả chữ thường, chữ hoa, chữ số và các ký hiệu đặc \r\n",
    "# biệt từ một chuỗi cho trước.\r\n",
    "\r\n",
    "a=[6,2,3,4,5,4]\r\n",
    "b=[i*i for i in a ]\r\n",
    "print(b)\r\n",
    "b.sort()\r\n",
    "print(b)\r\n"
   ],
   "outputs": [
    {
     "output_type": "stream",
     "name": "stdout",
     "text": [
      "[36, 4, 9, 16, 25, 16]\n",
      "[4, 9, 16, 16, 25, 36]\n"
     ]
    }
   ],
   "metadata": {}
  },
  {
   "cell_type": "code",
   "execution_count": 21,
   "source": [
    "\r\n",
    "a=[1,'a','5','b','a']\r\n",
    "b=[]\r\n",
    "count=0\r\n",
    "for i in a:\r\n",
    "    if(i not in b):\r\n",
    "        b.append(i)\r\n",
    "        count+=1\r\n",
    "print(count)"
   ],
   "outputs": [
    {
     "output_type": "stream",
     "name": "stdout",
     "text": [
      "4\n"
     ]
    }
   ],
   "metadata": {}
  },
  {
   "cell_type": "code",
   "execution_count": 15,
   "source": [
    "#  Bài tập 8: Cho một chuỗi đầu vào, đếm số lần xuất hiện của tất cả các \r\n",
    "# ký tự trong một chuỗi.\r\n",
    "\r\n",
    "s=str(input())\r\n",
    "characters={}\r\n",
    "for i in s:\r\n",
    "    if i in characters:\r\n",
    "        characters[i] +=1\r\n",
    "    else:\r\n",
    "        characters[i] = 1\r\n",
    "print(s)\r\n",
    "print(characters)"
   ],
   "outputs": [
    {
     "output_type": "stream",
     "name": "stdout",
     "text": [
      "dawdawda\n",
      "{'d': 3, 'a': 3, 'w': 2}\n"
     ]
    }
   ],
   "metadata": {}
  },
  {
   "cell_type": "code",
   "execution_count": 3,
   "source": [
    "# Bài tập 9: Đảo chiều các ký tự trong một chuỗi\r\n",
    "\r\n",
    "s=str(input())\r\n",
    "print(s)\r\n",
    "s_list=list(s)\r\n",
    "s_list.reverse()\r\n",
    "rev=''.join(s_list)\r\n",
    "print(rev)"
   ],
   "outputs": [
    {
     "output_type": "stream",
     "name": "stdout",
     "text": [
      "jaksj\n",
      "jskaj\n"
     ]
    }
   ],
   "metadata": {}
  },
  {
   "cell_type": "code",
   "execution_count": null,
   "source": [],
   "outputs": [],
   "metadata": {}
  }
 ],
 "metadata": {
  "orig_nbformat": 4,
  "language_info": {
   "name": "python",
   "version": "3.9.6",
   "mimetype": "text/x-python",
   "codemirror_mode": {
    "name": "ipython",
    "version": 3
   },
   "pygments_lexer": "ipython3",
   "nbconvert_exporter": "python",
   "file_extension": ".py"
  },
  "kernelspec": {
   "name": "python3",
   "display_name": "Python 3.9.6 64-bit"
  },
  "interpreter": {
   "hash": "ac59ebe37160ed0dfa835113d9b8498d9f09ceb179beaac4002f036b9467c963"
  }
 },
 "nbformat": 4,
 "nbformat_minor": 2
}